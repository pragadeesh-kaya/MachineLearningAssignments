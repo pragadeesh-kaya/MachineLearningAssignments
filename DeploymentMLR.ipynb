{
 "cells": [
  {
   "cell_type": "code",
   "execution_count": 1,
   "id": "588b811c",
   "metadata": {},
   "outputs": [
    {
     "name": "stdout",
     "output_type": "stream",
     "text": [
      "For State_Florida and State_NewYork input give values in 1 or 0\n",
      "\n",
      "enter R&D Spend value:1234\n",
      "enter Administration value:345\n",
      "enter Marketing Spend value:4565\n",
      "enter State_Florida value:1\n",
      "enter State_New York value:0\n"
     ]
    },
    {
     "name": "stderr",
     "output_type": "stream",
     "text": [
      "C:\\ProgramData\\anaconda3\\Lib\\site-packages\\sklearn\\base.py:464: UserWarning: X does not have valid feature names, but LinearRegression was fitted with feature names\n",
      "  warnings.warn(\n"
     ]
    },
    {
     "data": {
      "text/plain": [
       "array([[43994.79745873]])"
      ]
     },
     "execution_count": 1,
     "metadata": {},
     "output_type": "execute_result"
    }
   ],
   "source": [
    "import pickle \n",
    "\n",
    "loaded_model = pickle.load(open(\"finalized_model_multiLinear.sav\",'rb')) \n",
    "print(\"For State_Florida and State_NewYork input give values in 1 or 0\\n\")\n",
    "RandD_Spend = int(input(\"enter R&D Spend value:\"))\n",
    "Administration = int(input(\"enter Administration value:\"))\n",
    "Marketing_Spend = int(input(\"enter Marketing Spend value:\"))\n",
    "State_Florida = int(input(\"enter State_Florida value:\"))\n",
    "State_NewYork = int(input(\"enter State_New York value:\"))\n",
    "result = loaded_model.predict([[RandD_Spend,Administration,Marketing_Spend,State_Florida,State_NewYork]]) \n",
    "result"
   ]
  },
  {
   "cell_type": "code",
   "execution_count": null,
   "id": "653a0929",
   "metadata": {},
   "outputs": [],
   "source": []
  }
 ],
 "metadata": {
  "kernelspec": {
   "display_name": "Python 3 (ipykernel)",
   "language": "python",
   "name": "python3"
  },
  "language_info": {
   "codemirror_mode": {
    "name": "ipython",
    "version": 3
   },
   "file_extension": ".py",
   "mimetype": "text/x-python",
   "name": "python",
   "nbconvert_exporter": "python",
   "pygments_lexer": "ipython3",
   "version": "3.11.5"
  }
 },
 "nbformat": 4,
 "nbformat_minor": 5
}
